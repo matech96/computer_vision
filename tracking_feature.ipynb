{
 "cells": [
  {
   "cell_type": "code",
   "execution_count": 1,
   "metadata": {},
   "outputs": [],
   "source": [
    "import cv2 as cv\n",
    "import matplotlib.pyplot as plt\n",
    "import numpy as np\n",
    "import matech_utilities as mu\n",
    "\n",
    "plt.rcParams['figure.figsize'] = (20, 15)\n",
    "\n",
    "img_dir = \"images/\"\n"
   ]
  },
  {
   "cell_type": "code",
   "execution_count": 2,
   "metadata": {},
   "outputs": [],
   "source": [
    "img_dir = \"images/\"\n",
    "# r, h, c, w = 450, 100, 890, 100  # rubber\n",
    "# r,h,c,w = 250,300,850,75 # election day bracelet\n",
    "# r,h,c,w = 200,200,800,350 # blue\n",
    "# r, h, c, w = 200, 400, 525, 300  # head\n",
    "r, h, c, w = 75, 450, 825, 350  # german\n",
    "track_window = (c, r, w, h)\n",
    "corner_points = np.array([[c, r, 1],\n",
    "                          [c, r + h, 1],\n",
    "                          [c + w, r + h, 1],\n",
    "                          [c + w, r, 1]\n",
    "                          ])\n",
    "\n",
    "cap = cv.VideoCapture(img_dir + \"german.mp4\")\n",
    "_, first_frame = cap.read()\n",
    "h, w = first_frame.shape[:2]\n",
    "mask = np.zeros((h, w))\n",
    "mask = mu.create_mask(first_frame)\n",
    "# mask = np.zeros_like(first_frame)\n",
    "# mask = cv.cvtColor(mask, cv.COLOR_BGR2GRAY)\n",
    "mask[r:r + h, c:c + w] = 255\n",
    "_, org_pts, org_feat = mu.feature_match(first_frame, resize=False, mask=mask)\n",
    "prev_center = np.mean(corner_points[:, :-1], axis=0)\n"
   ]
  },
  {
   "cell_type": "code",
   "execution_count": 3,
   "metadata": {
    "collapsed": true
   },
   "outputs": [],
   "source": [
    "# %%time\n",
    "fourcc = cv.VideoWriter_fourcc(*'DIVX')\n",
    "vh, vw, _ = first_frame.shape\n",
    "out = cv.VideoWriter('output.mkv', fourcc, 25.0, (vw, vh), isColor=True)\n",
    "while True:\n",
    "    ret, frame = cap.read()\n",
    "\n",
    "    if ret:\n",
    "        _, pts, feat = mu.feature_match(frame, False)\n",
    "        bf = cv.DescriptorMatcher_create(\"BruteForce\")\n",
    "        matches = bf.knnMatch(org_feat, feat, k=2)\n",
    "        good = []\n",
    "        for m, n in matches:\n",
    "            if m.distance < 0.75 * n.distance:\n",
    "                good.append(m)\n",
    "        matches = good\n",
    "        MIN_MATCH_COUNT = 10\n",
    "        if len(matches) > MIN_MATCH_COUNT:\n",
    "            m_pts = np.float32([pts[m.trainIdx].pt for m in matches]).reshape(-1, 1, 2)\n",
    "            org_m_pts = np.float32([org_pts[m.queryIdx].pt for m in matches]).reshape(-1, 1, 2)\n",
    "            H, mask = cv.findHomography(org_m_pts, m_pts, cv.RANSAC, 5.0)\n",
    "            matchesMask = mask.ravel().tolist()\n",
    "            t_c = H.dot(corner_points.T)\n",
    "            cs = np.array([[int(c[0] / c[2]), int(c[1] / c[2])] for c in t_c.T])\n",
    "            mask[:, :] = 0\n",
    "            #             ptsa = cs.reshape((-1,1,2))\n",
    "            mask = cv.fillPoly(mask, [cs], 1)\n",
    "            org_feat = feat\n",
    "            org_pts = pts\n",
    "            res, center = mu.draw_box(cs, frame, True)\n",
    "            speed = center - prev_center\n",
    "            #             cv_show_pics(frame)\n",
    "            #             print(cs)\n",
    "            out.write(res)\n",
    "            prev_center = center\n",
    "        else:\n",
    "            print(\"Not enough matches are found - {}/{}\".format(len(good), MIN_MATCH_COUNT))\n",
    "            matchesMask = None\n",
    "\n",
    "    else:\n",
    "        break\n",
    "out.release()\n"
   ]
  },
  {
   "cell_type": "code",
   "execution_count": 4,
   "metadata": {
    "collapsed": true
   },
   "outputs": [],
   "source": [
    "cap.release()\n"
   ]
  },
  {
   "cell_type": "code",
   "execution_count": null,
   "metadata": {
    "collapsed": true
   },
   "outputs": [],
   "source": []
  }
 ],
 "metadata": {
  "kernelspec": {
   "display_name": "Python 3",
   "language": "python",
   "name": "python3"
  },
  "language_info": {
   "codemirror_mode": {
    "name": "ipython",
    "version": 3
   },
   "file_extension": ".py",
   "mimetype": "text/x-python",
   "name": "python",
   "nbconvert_exporter": "python",
   "pygments_lexer": "ipython3",
   "version": "3.6.3"
  }
 },
 "nbformat": 4,
 "nbformat_minor": 2
}
