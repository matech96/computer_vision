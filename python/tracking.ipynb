{
 "cells": [
  {
   "cell_type": "code",
   "execution_count": 114,
   "metadata": {
    "collapsed": true
   },
   "outputs": [],
   "source": [
    "import cv2 as cv\n",
    "import matplotlib.pyplot as plt\n",
    "import numpy as np\n",
    "import colorsys\n",
    "\n",
    "plt.rcParams['figure.figsize'] = (20, 20)\n",
    "\n",
    "\n",
    "def show_pics(plot_colum_size, plot_row_size, imgs, **kargs):\n",
    "    for i in range(plot_colum_size * plot_row_size):\n",
    "        plt.subplot(plot_row_size, plot_colum_size, i + 1)\n",
    "        img = imgs[i]\n",
    "        d = len(img.shape)\n",
    "#         if d != 3:\n",
    "#             kargs['cmap'] = 'gray'\n",
    "        plt.imshow(img, **kargs)\n",
    "    plt.show()\n",
    "    \n",
    "def cv_show_pics(plot_colum_size, plot_row_size, imgs, **kargs):\n",
    "    cv_imgs = []\n",
    "    for img in imgs:\n",
    "        cv_imgs.append(cv.cvtColor(img, cv.COLOR_BGR2RGB))\n",
    "    show_pics(plot_colum_size, plot_row_size, cv_imgs, **kargs)\n",
    "    \n",
    "def draw_box(box, frame):\n",
    "    pts = cv.boxPoints(box)\n",
    "    pts = np.int0(pts)\n",
    "    frame = cv.polylines(frame,[pts],True, 255,2)\n",
    "    a, _, b, _ = pts\n",
    "    cx = int((a[0] + b[0]) / 2)\n",
    "    cy = int((a[1] + b[1]) / 2)\n",
    "    frame = cv.circle(frame, (cx, cy), 10, (255, 0, 0), -1)\n",
    "    return frame"
   ]
  },
  {
   "cell_type": "code",
   "execution_count": 115,
   "metadata": {
    "scrolled": true
   },
   "outputs": [],
   "source": [
    "img_dir = \"../images/\"\n",
    "# r, h, c, w = 450, 100, 890, 100  # rubber\n",
    "# r,h,c,w = 250,300,850,75 # election day bracelet\n",
    "# r,h,c,w = 200,200,800,350 # blue\n",
    "# r, h, c, w = 200, 400, 525, 300  # head\n",
    "r, h, c, w = 75, 425, 870, 290  # german\n",
    "track_window = (c, r, w, h)\n",
    "\n",
    "cap = cv.VideoCapture(img_dir + \"german.mp4\")\n",
    "_, first_frame = cap.read()\n",
    "roi = first_frame[r:r + h, c:c + w, :]\n",
    "roi_hsv = cv.cvtColor(roi, cv.COLOR_BGR2HSV)\n",
    "# cv_show_pics(2, 1, [roi, first_frame])\n",
    "first_frame_hsv = cv.cvtColor(first_frame, cv.COLOR_BGR2HSV)\n",
    "# cv_show_pics(1, 1, [first_frame_hsv])"
   ]
  },
  {
   "cell_type": "code",
   "execution_count": 116,
   "metadata": {},
   "outputs": [],
   "source": [
    "# bucket_n = 256\n",
    "# channels = [0] # [0, 1, 2]\n",
    "# ranges = [0, 255] # [0, 255, 0, 255, 0, 255]\n",
    "# buckets = [bucket_n] # [bucket_n, bucket_n, bucket_n]\n",
    "bucket_n = 8\n",
    "channels = [0, 1, 2]\n",
    "ranges = [0, 255, 0, 255, 0, 255]\n",
    "buckets = [bucket_n, bucket_n, bucket_n]\n",
    "mask = None\n",
    "\n",
    "roi_hist = cv.calcHist([roi_hsv], channels, mask, buckets, ranges)\n",
    "roi_hist = cv.normalize(roi_hist, roi_hist, 0, 255, cv.NORM_MINMAX)"
   ]
  },
  {
   "cell_type": "code",
   "execution_count": 117,
   "metadata": {
    "scrolled": true
   },
   "outputs": [],
   "source": [
    "# plt.rcParams['figure.figsize'] = (40, 30)\n",
    "# y = roi_hist.flatten()\n",
    "# N = len(y)\n",
    "# x = range(N)\n",
    "# width = 1\n",
    "# plt.bar(x, y, width, color=[colorsys.hsv_to_rgb(i/N, 1, 1) for i in range(N)])\n",
    "# plt.axis('off')\n",
    "# plt.show()"
   ]
  },
  {
   "cell_type": "code",
   "execution_count": 118,
   "metadata": {},
   "outputs": [
    {
     "name": "stdout",
     "output_type": "stream",
     "text": [
      "Wall time: 13.6 s\n"
     ]
    }
   ],
   "source": [
    "%%time\n",
    "term_crit = (cv.TERM_CRITERIA_EPS | cv.TERM_CRITERIA_COUNT, 10, 1)\n",
    "fourcc = cv.VideoWriter_fourcc(*'DIVX')\n",
    "h, w, _ = first_frame.shape\n",
    "out = cv.VideoWriter('output.mkv', fourcc, 25.0, (2 * w, h), isColor=True)\n",
    "while True:\n",
    "    ret, frame = cap.read()\n",
    "\n",
    "    if ret:\n",
    "        frame_hsv = cv.cvtColor(frame, cv.COLOR_BGR2HSV)\n",
    "        prob_map = cv.calcBackProject([frame_hsv], channels, roi_hist, ranges, 1)\n",
    "        # ret, track_window = cv.meanShift(prob_map, track_window, term_crit)\n",
    "        ret, track_window = cv.CamShift(prob_map, track_window, term_crit)\n",
    "        # x, y, w, h = track_window\n",
    "        # frame = cv.rectangle(frame, (x, y), (x + w, y + h), 255, 10)\n",
    "        frame = draw_box(ret, frame)\n",
    "        prob_map = cv.cvtColor(prob_map, cv.COLOR_GRAY2BGR)\n",
    "        prob_map = draw_box(ret, prob_map)\n",
    "        frame = np.concatenate([frame, prob_map], axis=1)\n",
    "        out.write(frame)\n",
    "    else:\n",
    "        break\n",
    "out.release()"
   ]
  },
  {
   "cell_type": "code",
   "execution_count": 119,
   "metadata": {
    "collapsed": true
   },
   "outputs": [],
   "source": [
    "cap.release()"
   ]
  },
  {
   "cell_type": "code",
   "execution_count": null,
   "metadata": {
    "collapsed": true
   },
   "outputs": [],
   "source": []
  }
 ],
 "metadata": {
  "kernelspec": {
   "display_name": "Python 3",
   "language": "python",
   "name": "python3"
  },
  "language_info": {
   "codemirror_mode": {
    "name": "ipython",
    "version": 3
   },
   "file_extension": ".py",
   "mimetype": "text/x-python",
   "name": "python",
   "nbconvert_exporter": "python",
   "pygments_lexer": "ipython3",
   "version": "3.6.3"
  }
 },
 "nbformat": 4,
 "nbformat_minor": 2
}
